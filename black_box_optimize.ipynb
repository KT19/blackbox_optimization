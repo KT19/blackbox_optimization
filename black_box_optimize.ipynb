{
 "cells": [
  {
   "cell_type": "code",
   "execution_count": 1,
   "metadata": {},
   "outputs": [],
   "source": [
    "import numpy as np\n",
    "import matplotlib\n",
    "import matplotlib.pyplot as plt\n",
    "\n",
    "%matplotlib inline"
   ]
  },
  {
   "cell_type": "code",
   "execution_count": 2,
   "metadata": {},
   "outputs": [],
   "source": [
    "def gaussian_search(func, mean=0.0, std=5.0, sample_num=100):\n",
    "    samples = np.random.normal(loc=mean, scale=std, size=(sample_num, 1)) #(based on previous mean)\n",
    "    min_value = 1e9\n",
    "    ans = (min_value, 0)\n",
    "    for sample in samples:\n",
    "        output = func(sample)\n",
    "        if output < min_value:\n",
    "            min_value = output\n",
    "            ans = (min_value, sample)\n",
    "            \n",
    "    return ans"
   ]
  },
  {
   "cell_type": "code",
   "execution_count": 3,
   "metadata": {},
   "outputs": [],
   "source": [
    "def sim_anneal(func, mean=0.0, std=1.0, T=1,min_T = 0.05, sample_num=100):\n",
    "    def anneal(func, x1, x2, std, T):\n",
    "        q1 = np.random.normal(loc=x1, scale=std, size=1)\n",
    "        q2 = np.random.normal(loc=x2, scale=std, size=1)\n",
    "        \n",
    "        prob = (np.exp(-func(x1)/T)*q1)/(np.exp(-func(x2)/T)*q2)\n",
    "        \n",
    "        return min(1, prob)\n",
    "    \n",
    "    step_size = (T-min_T)/sample_num\n",
    "    \n",
    "    for i in range(sample_num):\n",
    "        x = np.random.normal(loc=mean, scale=std, size=1)\n",
    "        acceptance_prob = anneal(func, x, mean, std, T)\n",
    "        if np.random.random() < acceptance_prob:\n",
    "            mean = x\n",
    "            \n",
    "        T -= step_size\n",
    "        \n",
    "    return (func(mean), mean)"
   ]
  },
  {
   "cell_type": "code",
   "execution_count": 4,
   "metadata": {},
   "outputs": [],
   "source": [
    "def function(x):\n",
    "    return min(1/20*(x+3)**4+0.1*(1/np.exp(-x)) + 3/((x-3.3)**2+0.1) - 2./(abs(x+1.6)+0.1)-2/(abs(x-1.2)+0.1) ,5)"
   ]
  },
  {
   "cell_type": "code",
   "execution_count": 5,
   "metadata": {},
   "outputs": [],
   "source": [
    "def plot(function, min_value, max_value, bin=100):\n",
    "    sp = (max_value-min_value)/bin\n",
    "    X = [min_value + i*sp for i in range(bin+1)]\n",
    "    Y = []\n",
    "    for x in X:\n",
    "        Y.append(function(x))\n",
    "        \n",
    "    plt.plot(X, Y)"
   ]
  },
  {
   "cell_type": "code",
   "execution_count": 6,
   "metadata": {},
   "outputs": [],
   "source": [
    "def trial(function, bo_optimizer, trial_num = 20):\n",
    "    mean=10\n",
    "    for i in range(trial_num):\n",
    "        ans = bo_optimizer(function, mean=mean)\n",
    "        mean = ans[1]\n",
    "        \n",
    "    return ans"
   ]
  },
  {
   "cell_type": "code",
   "execution_count": 7,
   "metadata": {},
   "outputs": [
    {
     "data": {
      "image/png": "[encoded data removed]",
      "text/plain": [
       "<Figure size 432x288 with 1 Axes>"
      ]
     },
     "metadata": {
      "needs_background": "light"
     },
     "output_type": "display_data"
    }
   ],
   "source": [
    "plot(function, -3, 3)"
   ]
  },
  {
   "cell_type": "code",
   "execution_count": 8,
   "metadata": {},
   "outputs": [
    {
     "name": "stdout",
     "output_type": "stream",
     "text": [
      "Gaussian search\n",
      "min f(x) = [-15.48530489], x = [-1.56794445]\n",
      "\n",
      "Simulated annealing\n",
      "min f(x) = [-19.91990472], x = [-1.60221759]\n",
      "\n"
     ]
    }
   ],
   "source": [
    "print(\"Gaussian search\")\n",
    "(val, point) = trial(function, gaussian_search)\n",
    "print(\"min f(x) = {}, x = {}\\n\".format(val, point))\n",
    "\n",
    "print(\"Simulated annealing\")\n",
    "(val, point) = sim_anneal(function,sample_num=2000) #same time in gaussian search in total (in gaussian, 100x20 points are sampled)\n",
    "print(\"min f(x) = {}, x = {}\\n\".format(val, point))"
   ]
  }
 ],
 "metadata": {
  "kernelspec": {
   "display_name": "Python 3",
   "language": "python",
   "name": "python3"
  },
  "language_info": {
   "codemirror_mode": {
    "name": "ipython",
    "version": 3
   },
   "file_extension": ".py",
   "mimetype": "text/x-python",
   "name": "python",
   "nbconvert_exporter": "python",
   "pygments_lexer": "ipython3",
   "version": "3.6.9"
  }
 },
 "nbformat": 4,
 "nbformat_minor": 4
}
